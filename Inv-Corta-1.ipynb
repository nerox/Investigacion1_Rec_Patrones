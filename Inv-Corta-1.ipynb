{
 "cells": [
  {
   "cell_type": "markdown",
   "metadata": {},
   "source": [
    "# I. Tutorial de pandas\n",
    "\n",
    "El siguiente tutorial fue elaborado por Alejandro Vargas Chaves (200932185) por motivo de investigación personal en el curso de reconocimiento de patrones.\n",
    "\n",
    "## 1. Introducción \n",
    "\n",
    "Pandas es una biblioteca open source, la cual provee alto desempeño, estructuras de datos fáciles de usar y utilidades de analisis de datos para el lenguaje de programación python. Puede utilizar el siguiente enlace para mayor referencia https://pandas.pydata.org/\n",
    "\n",
    "### 1.1 Instalación\n",
    "\n",
    "Solamente se requiere utilizar el siguiente comando en terminal \n",
    "\n",
    "conda install pandas\n",
    "\n",
    "### 1.2 Uso\n",
    "\n",
    "Para utilizar la biblioteca se requiere hacer un import en el lenguaje python como se observa a continuación:\n",
    "\n"
   ]
  },
  {
   "cell_type": "code",
   "execution_count": 48,
   "metadata": {},
   "outputs": [],
   "source": [
    "import pandas as pd"
   ]
  },
  {
   "cell_type": "markdown",
   "metadata": {},
   "source": [
    "## 2. Cargando archivos en Pandas\n",
    "\n",
    "Pandas como se comentó anteriormente, Pandas permite cargar datos de diversas fuentes de archivos o bases de datos. Para importar un set de datos de un csv se utiliza el siguiente comando read_csv(). Se debe poner la ruta dentro de los parentesis."
   ]
  },
  {
   "cell_type": "code",
   "execution_count": 58,
   "metadata": {},
   "outputs": [],
   "source": [
    "equipos = pd.read_csv('equipos_futbol.csv')\n"
   ]
  },
  {
   "cell_type": "markdown",
   "metadata": {},
   "source": [
    "## 3. Utilizando datos en pandas\n",
    "\n",
    "Padas permite utilizar datos almacenados en archivos como .csv o bases de datos. Para analizar datos en pandas se deben utilizar estructuras de datos compatibles con pandas. \n",
    "\n",
    "### 3.1 Estructuras de datos de pandas\n",
    "\n",
    "Las principales estructuras de datos son: Series y DataFrames\n",
    "\n",
    "#### 3.1.1 Series\n",
    "\n",
    "La serie corresponde a una estructura de una sola dimension "
   ]
  },
  {
   "cell_type": "code",
   "execution_count": 49,
   "metadata": {
    "scrolled": false
   },
   "outputs": [
    {
     "name": "stdout",
     "output_type": "stream",
     "text": [
      "0      Alejandro\n",
      "1          Pablo\n",
      "2         Daniel\n",
      "3       Fernando\n",
      "4    Juan Carlos\n",
      "dtype: object\n"
     ]
    }
   ],
   "source": [
    "data = ['Alejandro','Pablo','Daniel','Fernando','Juan Carlos']\n",
    " \n",
    "ser = pd.Series(data)\n",
    "print(ser)"
   ]
  },
  {
   "cell_type": "markdown",
   "metadata": {},
   "source": [
    "Los elementos dentro de una serie se pueden acceder por medio de indices [posicion] y tambien se puede utilizar slicing de python[posicion:posicion] para obtener un subset de datos"
   ]
  },
  {
   "cell_type": "code",
   "execution_count": 50,
   "metadata": {},
   "outputs": [
    {
     "name": "stdout",
     "output_type": "stream",
     "text": [
      "Alejandro\n",
      "Obtener un subset de datos\n",
      "0    Alejandro\n",
      "1        Pablo\n",
      "2       Daniel\n",
      "dtype: object\n"
     ]
    }
   ],
   "source": [
    "ser = pd.Series(data)\n",
    "print(ser[0])\n",
    "print(\"Obtener un subset de datos\")\n",
    "print(ser[:3])"
   ]
  },
  {
   "cell_type": "markdown",
   "metadata": {},
   "source": [
    "#### 3.1.2 DataFrames\n",
    "\n",
    "El dataframe consiste en una estructura de multiples dimensiones. Es decir representa una tabla de filas y columnas. Cada columnda tiene nombres y las filas indices."
   ]
  },
  {
   "cell_type": "code",
   "execution_count": 51,
   "metadata": {},
   "outputs": [
    {
     "name": "stdout",
     "output_type": "stream",
     "text": [
      "      Equipo  Puntos  Goles a favor  Goles en contra\n",
      "0  Sapprissa      27             33               10\n",
      "1   Alajuela      26             26               12\n",
      "2    Heredia      23             20               14\n",
      "3    Cartago      23             14                8\n"
     ]
    }
   ],
   "source": [
    " \n",
    "lista = {'Equipo':['Sapprissa', 'Alajuela', 'Heredia', 'Cartago'],\n",
    "        'Puntos':[27, 26, 23, 23], 'Goles a favor':[33,26,20,14], 'Goles en contra':[10,12,14,8]}\n",
    " \n",
    "df = pd.DataFrame(lista)\n",
    "print(df)"
   ]
  },
  {
   "cell_type": "markdown",
   "metadata": {},
   "source": [
    "Se pueden manejar los datos de forma que solo se obtenga la información de algunas columnas"
   ]
  },
  {
   "cell_type": "code",
   "execution_count": 52,
   "metadata": {},
   "outputs": [
    {
     "name": "stdout",
     "output_type": "stream",
     "text": [
      "      Equipo  Puntos\n",
      "0  Sapprissa      27\n",
      "1   Alajuela      26\n",
      "2    Heredia      23\n",
      "3    Cartago      23\n"
     ]
    }
   ],
   "source": [
    "df = pd.DataFrame(lista)\n",
    "print(df[['Equipo', 'Puntos']])"
   ]
  },
  {
   "cell_type": "markdown",
   "metadata": {},
   "source": [
    "#### 3.1.2.1 Selección por filas\n",
    "\n",
    "Los dataframes contienen meotodos para el acceso por filas por medio de los métodos de loc, iloc y ix"
   ]
  },
  {
   "cell_type": "code",
   "execution_count": 53,
   "metadata": {},
   "outputs": [],
   "source": [
    "data = pd.read_csv('Demographic_Statistics_By_Zip_Code.csv')\n",
    "traffic = pd.read_csv('Traffic_Violations.csv')\n",
    "uk_500 = pd.read_csv('https://s3-eu-west-1.amazonaws.com/shanebucket/downloads/uk-500.csv')\n",
    "#dataset tomado de https://catalog.data.gov/dataset?res_format=CSV\n"
   ]
  },
  {
   "cell_type": "code",
   "execution_count": 54,
   "metadata": {},
   "outputs": [
    {
     "name": "stdout",
     "output_type": "stream",
     "text": [
      "JURISDICTION NAME                      10001.00\n",
      "COUNT PARTICIPANTS                        44.00\n",
      "COUNT FEMALE                              22.00\n",
      "PERCENT FEMALE                             0.50\n",
      "COUNT MALE                                22.00\n",
      "PERCENT MALE                               0.50\n",
      "COUNT GENDER UNKNOWN                       0.00\n",
      "PERCENT GENDER UNKNOWN                     0.00\n",
      "COUNT GENDER TOTAL                        44.00\n",
      "PERCENT GENDER TOTAL                     100.00\n",
      "COUNT PACIFIC ISLANDER                     0.00\n",
      "PERCENT PACIFIC ISLANDER                   0.00\n",
      "COUNT HISPANIC LATINO                     16.00\n",
      "PERCENT HISPANIC LATINO                    0.36\n",
      "COUNT AMERICAN INDIAN                      0.00\n",
      "PERCENT AMERICAN INDIAN                    0.00\n",
      "COUNT ASIAN NON HISPANIC                   3.00\n",
      "PERCENT ASIAN NON HISPANIC                 0.07\n",
      "COUNT WHITE NON HISPANIC                   1.00\n",
      "PERCENT WHITE NON HISPANIC                 0.02\n",
      "COUNT BLACK NON HISPANIC                  21.00\n",
      "PERCENT BLACK NON HISPANIC                 0.48\n",
      "COUNT OTHER ETHNICITY                      3.00\n",
      "PERCENT OTHER ETHNICITY                    0.07\n",
      "COUNT ETHNICITY UNKNOWN                    0.00\n",
      "PERCENT ETHNICITY UNKNOWN                  0.00\n",
      "COUNT ETHNICITY TOTAL                     44.00\n",
      "PERCENT ETHNICITY TOTAL                  100.00\n",
      "COUNT PERMANENT RESIDENT ALIEN             2.00\n",
      "PERCENT PERMANENT RESIDENT ALIEN           0.05\n",
      "COUNT US CITIZEN                          42.00\n",
      "PERCENT US CITIZEN                         0.95\n",
      "COUNT OTHER CITIZEN STATUS                 0.00\n",
      "PERCENT OTHER CITIZEN STATUS               0.00\n",
      "COUNT CITIZEN STATUS UNKNOWN               0.00\n",
      "PERCENT CITIZEN STATUS UNKNOWN             0.00\n",
      "COUNT CITIZEN STATUS TOTAL                44.00\n",
      "PERCENT CITIZEN STATUS TOTAL             100.00\n",
      "COUNT RECEIVES PUBLIC ASSISTANCE          20.00\n",
      "PERCENT RECEIVES PUBLIC ASSISTANCE         0.45\n",
      "COUNT NRECEIVES PUBLIC ASSISTANCE         24.00\n",
      "PERCENT NRECEIVES PUBLIC ASSISTANCE        0.55\n",
      "COUNT PUBLIC ASSISTANCE UNKNOWN            0.00\n",
      "PERCENT PUBLIC ASSISTANCE UNKNOWN          0.00\n",
      "COUNT PUBLIC ASSISTANCE TOTAL             44.00\n",
      "PERCENT PUBLIC ASSISTANCE TOTAL          100.00\n",
      "Name: 0, dtype: float64\n"
     ]
    }
   ],
   "source": [
    "print(data.iloc[0])# primera fila"
   ]
  },
  {
   "cell_type": "code",
   "execution_count": 55,
   "metadata": {},
   "outputs": [
    {
     "name": "stdout",
     "output_type": "stream",
     "text": [
      "   JURISDICTION NAME  COUNT PARTICIPANTS  COUNT FEMALE  PERCENT FEMALE  \\\n",
      "0              10001                  44            22            0.50   \n",
      "1              10002                  35            19            0.54   \n",
      "2              10003                   1             1            1.00   \n",
      "3              10004                   0             0            0.00   \n",
      "4              10005                   2             2            1.00   \n",
      "\n",
      "   COUNT MALE  PERCENT MALE  COUNT GENDER UNKNOWN  PERCENT GENDER UNKNOWN  \\\n",
      "0          22          0.50                     0                       0   \n",
      "1          16          0.46                     0                       0   \n",
      "2           0          0.00                     0                       0   \n",
      "3           0          0.00                     0                       0   \n",
      "4           0          0.00                     0                       0   \n",
      "\n",
      "   COUNT GENDER TOTAL  PERCENT GENDER TOTAL  ...  COUNT CITIZEN STATUS TOTAL  \\\n",
      "0                  44                   100  ...                          44   \n",
      "1                  35                   100  ...                          35   \n",
      "2                   1                   100  ...                           1   \n",
      "3                   0                     0  ...                           0   \n",
      "4                   2                   100  ...                           2   \n",
      "\n",
      "   PERCENT CITIZEN STATUS TOTAL  COUNT RECEIVES PUBLIC ASSISTANCE  \\\n",
      "0                           100                                20   \n",
      "1                           100                                 2   \n",
      "2                           100                                 0   \n",
      "3                             0                                 0   \n",
      "4                           100                                 0   \n",
      "\n",
      "   PERCENT RECEIVES PUBLIC ASSISTANCE  COUNT NRECEIVES PUBLIC ASSISTANCE  \\\n",
      "0                                0.45                                 24   \n",
      "1                                0.06                                 33   \n",
      "2                                0.00                                  1   \n",
      "3                                0.00                                  0   \n",
      "4                                0.00                                  2   \n",
      "\n",
      "   PERCENT NRECEIVES PUBLIC ASSISTANCE  COUNT PUBLIC ASSISTANCE UNKNOWN  \\\n",
      "0                                 0.55                                0   \n",
      "1                                 0.94                                0   \n",
      "2                                 1.00                                0   \n",
      "3                                 0.00                                0   \n",
      "4                                 1.00                                0   \n",
      "\n",
      "   PERCENT PUBLIC ASSISTANCE UNKNOWN  COUNT PUBLIC ASSISTANCE TOTAL  \\\n",
      "0                                  0                             44   \n",
      "1                                  0                             35   \n",
      "2                                  0                              1   \n",
      "3                                  0                              0   \n",
      "4                                  0                              2   \n",
      "\n",
      "   PERCENT PUBLIC ASSISTANCE TOTAL  \n",
      "0                              100  \n",
      "1                              100  \n",
      "2                              100  \n",
      "3                                0  \n",
      "4                              100  \n",
      "\n",
      "[5 rows x 46 columns]\n"
     ]
    }
   ],
   "source": [
    "print(data.iloc[0:5]) # primeras 5 filas"
   ]
  },
  {
   "cell_type": "code",
   "execution_count": 56,
   "metadata": {},
   "outputs": [
    {
     "name": "stdout",
     "output_type": "stream",
     "text": [
      "   JURISDICTION NAME  COUNT PARTICIPANTS\n",
      "0              10001                  44\n",
      "1              10002                  35\n",
      "2              10003                   1\n",
      "3              10004                   0\n",
      "4              10005                   2\n"
     ]
    }
   ],
   "source": [
    "print(data.iloc[0:5, 0:2]) # primeras 2 filas con un subset de columnas"
   ]
  },
  {
   "cell_type": "markdown",
   "metadata": {},
   "source": [
    "La opcion de loc nos permite obtener datos de filas utilizando igualdades con llaves predefinidas. Por ejemplo para obtener la cantidad de multas registradas en Rockville por exceder el limite de 35MPH se puede seguir el siguiente ejemplo:"
   ]
  },
  {
   "cell_type": "code",
   "execution_count": 57,
   "metadata": {},
   "outputs": [
    {
     "name": "stdout",
     "output_type": "stream",
     "text": [
      "64\n"
     ]
    }
   ],
   "source": [
    "traffic.set_index(\"SubAgency\", inplace=True) #ubicamos el indice a una columna especifica\n",
    "traffic.head()\n",
    "print(len(traffic.loc[[\"1st District, Rockville\",\"EXCEEDING THE POSTED SPEED LIMIT OF 35 MPH\"],[\"Date Of Stop\"\n",
    "]])) "
   ]
  },
  {
   "cell_type": "markdown",
   "metadata": {},
   "source": [
    "## 4. Operaciones en Pandas sobre dataFrames\n",
    "\n",
    "Sobre los dataFrames se pueden realizar las operaciones add(), sub(), mul(), div()"
   ]
  },
  {
   "cell_type": "code",
   "execution_count": 59,
   "metadata": {},
   "outputs": [
    {
     "name": "stdout",
     "output_type": "stream",
     "text": [
      "                           Equipos  PJ  PG  PE  PP  GF   GC  Dif  Pts  \\\n",
      "0                        Herediano  44  29  12   3  75   26   49   99   \n",
      "1               Deportivo Saprissa  44  26   9   9  93   48   45   87   \n",
      "2               Santos de Guápiles  44  21  16   7  76   44   32   79   \n",
      "3                 L.D. Alajuelense  44  21  11  12  84   56   28   74   \n",
      "4                    Pérez Zeledón  44  17  13  14  71   65    5   64   \n",
      "5                       Limón F.C.  44  14  16  14  66   67   -1   58   \n",
      "6                 Municipal Grecia  44  14  13  17  58   71  -13   55   \n",
      "7   Universidad de Costa Rica F.C.  44  10  15  19  43   60  -17   45   \n",
      "8                   Guadalupe F.C.  44  10  15  19  50   68  -18   45   \n",
      "9                   A.D. Carmelita  44  11  10  23  55   77  -22   43   \n",
      "10                 C.S. Cartaginés  44   5  20  19  43   70  -27   35   \n",
      "11               Municipal Liberia  44   7   8  29  41  101  -60   29   \n",
      "\n",
      "    Rendimiento  \n",
      "0      0.659091  \n",
      "1      0.590909  \n",
      "2      0.477273  \n",
      "3      0.477273  \n",
      "4      0.386364  \n",
      "5      0.318182  \n",
      "6      0.318182  \n",
      "7      0.227273  \n",
      "8      0.227273  \n",
      "9      0.250000  \n",
      "10     0.113636  \n",
      "11     0.159091  \n"
     ]
    }
   ],
   "source": [
    "#print(equipos.iloc[:,:3]) prueba para observar las columnas \n",
    "equipos[\"Rendimiento\"]=equipos[[\"PG\"]].div(equipos.PJ, axis=0) #se agrega una columna para verificar el rendimiento del equipo\n",
    "print(equipos)"
   ]
  },
  {
   "cell_type": "code",
   "execution_count": 60,
   "metadata": {},
   "outputs": [
    {
     "name": "stdout",
     "output_type": "stream",
     "text": [
      "                           Equipos  PJ  PG  PE  PP  GF   GC  Dif  Pts  \\\n",
      "0                        Herediano  44  29  12   3  75   26   49   99   \n",
      "1               Deportivo Saprissa  44  26   9   9  93   48   45   87   \n",
      "2               Santos de Guápiles  44  21  16   7  76   44   32   79   \n",
      "3                 L.D. Alajuelense  44  21  11  12  84   56   28   74   \n",
      "4                    Pérez Zeledón  44  17  13  14  71   65    5   64   \n",
      "5                       Limón F.C.  44  14  16  14  66   67   -1   58   \n",
      "6                 Municipal Grecia  44  14  13  17  58   71  -13   55   \n",
      "7   Universidad de Costa Rica F.C.  44  10  15  19  43   60  -17   45   \n",
      "8                   Guadalupe F.C.  44  10  15  19  50   68  -18   45   \n",
      "9                   A.D. Carmelita  44  11  10  23  55   77  -22   43   \n",
      "10                 C.S. Cartaginés  44   5  20  19  43   70  -27   35   \n",
      "11               Municipal Liberia  44   7   8  29  41  101  -60   29   \n",
      "\n",
      "    Rendimiento  Puntos_solo_victorias  \n",
      "0      0.659091                     87  \n",
      "1      0.590909                     78  \n",
      "2      0.477273                     63  \n",
      "3      0.477273                     63  \n",
      "4      0.386364                     51  \n",
      "5      0.318182                     42  \n",
      "6      0.318182                     42  \n",
      "7      0.227273                     30  \n",
      "8      0.227273                     30  \n",
      "9      0.250000                     33  \n",
      "10     0.113636                     15  \n",
      "11     0.159091                     21  \n"
     ]
    }
   ],
   "source": [
    "equipos[\"Puntos_solo_victorias\"]=equipos[[\"PG\"]].mul(3, axis=0) #se agrega una columna para verificar el rendimiento del equipo\n",
    "print(equipos)"
   ]
  },
  {
   "cell_type": "code",
   "execution_count": 61,
   "metadata": {},
   "outputs": [
    {
     "name": "stdout",
     "output_type": "stream",
     "text": [
      "                           Equipos  PJ  PG  PE  PP  GF   GC  Dif  Pts  \\\n",
      "0                        Herediano  44  29  12   3  75   26   49   99   \n",
      "1               Deportivo Saprissa  44  26   9   9  93   48   45   87   \n",
      "2               Santos de Guápiles  44  21  16   7  76   44   32   79   \n",
      "3                 L.D. Alajuelense  44  21  11  12  84   56   28   74   \n",
      "4                    Pérez Zeledón  44  17  13  14  71   65    5   64   \n",
      "5                       Limón F.C.  44  14  16  14  66   67   -1   58   \n",
      "6                 Municipal Grecia  44  14  13  17  58   71  -13   55   \n",
      "7   Universidad de Costa Rica F.C.  44  10  15  19  43   60  -17   45   \n",
      "8                   Guadalupe F.C.  44  10  15  19  50   68  -18   45   \n",
      "9                   A.D. Carmelita  44  11  10  23  55   77  -22   43   \n",
      "10                 C.S. Cartaginés  44   5  20  19  43   70  -27   35   \n",
      "11               Municipal Liberia  44   7   8  29  41  101  -60   29   \n",
      "\n",
      "    Rendimiento  Puntos_solo_victorias  PJ2  \n",
      "0      0.659091                     87   41  \n",
      "1      0.590909                     78   35  \n",
      "2      0.477273                     63   37  \n",
      "3      0.477273                     63   32  \n",
      "4      0.386364                     51   30  \n",
      "5      0.318182                     42   30  \n",
      "6      0.318182                     42   27  \n",
      "7      0.227273                     30   25  \n",
      "8      0.227273                     30   25  \n",
      "9      0.250000                     33   21  \n",
      "10     0.113636                     15   25  \n",
      "11     0.159091                     21   15  \n"
     ]
    }
   ],
   "source": [
    "equipos[\"PJ2\"]=equipos[[\"PG\"]].add(equipos.PE, axis=0) #se agrega una columna para verificar el rendimiento del equipo\n",
    "print(equipos)                            "
   ]
  },
  {
   "cell_type": "markdown",
   "metadata": {},
   "source": [
    "Se puede utilizar tambien la siguiente sintaxis"
   ]
  },
  {
   "cell_type": "code",
   "execution_count": 65,
   "metadata": {},
   "outputs": [
    {
     "name": "stdout",
     "output_type": "stream",
     "text": [
      "                           Equipos  Jugados\n",
      "0                        Herediano       44\n",
      "1               Deportivo Saprissa       44\n",
      "2               Santos de Guápiles       44\n",
      "3                 L.D. Alajuelense       44\n",
      "4                    Pérez Zeledón       44\n",
      "5                       Limón F.C.       44\n",
      "6                 Municipal Grecia       44\n",
      "7   Universidad de Costa Rica F.C.       44\n",
      "8                   Guadalupe F.C.       44\n",
      "9                   A.D. Carmelita       44\n",
      "10                 C.S. Cartaginés       44\n",
      "11               Municipal Liberia       44\n"
     ]
    }
   ],
   "source": [
    "ganados=pd.DataFrame()\n",
    "ganados[\"Equipos\"]=equipos[\"Equipos\"]\n",
    "ganados[\"Jugados\"]=equipos[\"PG\"]+equipos[\"PE\"]+equipos[\"PP\"]    \n",
    "print(ganados)"
   ]
  },
  {
   "cell_type": "code",
   "execution_count": 67,
   "metadata": {
    "scrolled": true
   },
   "outputs": [
    {
     "name": "stdout",
     "output_type": "stream",
     "text": [
      "                           Equipos  PJ  PG  PE  PP  GF   GC  Dif  Pts  \\\n",
      "0                        Herediano  44  29  12   3  75   26   49   99   \n",
      "1               Deportivo Saprissa  44  26   9   9  93   48   45   87   \n",
      "2               Santos de Guápiles  44  21  16   7  76   44   32   79   \n",
      "3                 L.D. Alajuelense  44  21  11  12  84   56   28   74   \n",
      "4                    Pérez Zeledón  44  17  13  14  71   65    5   64   \n",
      "5                       Limón F.C.  44  14  16  14  66   67   -1   58   \n",
      "6                 Municipal Grecia  44  14  13  17  58   71  -13   55   \n",
      "7   Universidad de Costa Rica F.C.  44  10  15  19  43   60  -17   45   \n",
      "8                   Guadalupe F.C.  44  10  15  19  50   68  -18   45   \n",
      "9                   A.D. Carmelita  44  11  10  23  55   77  -22   43   \n",
      "10                 C.S. Cartaginés  44   5  20  19  43   70  -27   35   \n",
      "11               Municipal Liberia  44   7   8  29  41  101  -60   29   \n",
      "\n",
      "    Rendimiento  Puntos_solo_victorias  PJ2  Diff  \n",
      "0      0.659091                     87   41    49  \n",
      "1      0.590909                     78   35    45  \n",
      "2      0.477273                     63   37    32  \n",
      "3      0.477273                     63   32    28  \n",
      "4      0.386364                     51   30     6  \n",
      "5      0.318182                     42   30    -1  \n",
      "6      0.318182                     42   27   -13  \n",
      "7      0.227273                     30   25   -17  \n",
      "8      0.227273                     30   25   -18  \n",
      "9      0.250000                     33   21   -22  \n",
      "10     0.113636                     15   25   -27  \n",
      "11     0.159091                     21   15   -60  \n"
     ]
    }
   ],
   "source": [
    "equipos[\"Diff\"]=equipos[[\"GF\"]].sub(equipos.GC, axis=0) #se agrega una columna para verificar el rendimiento del equipo\n",
    "print(equipos)"
   ]
  },
  {
   "cell_type": "markdown",
   "metadata": {},
   "source": [
    "## 5. Visualizando datos\n",
    "\n",
    "Pandas se puede combinar con algunas otras librerias para poder visualizar los datos "
   ]
  },
  {
   "cell_type": "code",
   "execution_count": 71,
   "metadata": {},
   "outputs": [],
   "source": [
    "import matplotlib.pyplot as plt\n",
    "import numpy as np\n",
    "from numpy import array"
   ]
  },
  {
   "cell_type": "raw",
   "metadata": {},
   "source": [
    "Se debe definir un eje x y apartir de una serie o dataframe y utilizar las funciones de plot"
   ]
  },
  {
   "cell_type": "code",
   "execution_count": 74,
   "metadata": {},
   "outputs": [
    {
     "name": "stdout",
     "output_type": "stream",
     "text": [
      "  first_name   last_name             company_name            address  \\\n",
      "0    Aleshia  Tomkiewicz  Alan D Rosenburg Cpa Pc       14 Taylor St   \n",
      "1       Evan   Zigomalas       Cap Gemini America        5 Binney St   \n",
      "2     France     Andrade      Elliott, John W Esq       8 Moor Place   \n",
      "3    Ulysses   Mcwalters           Mcmahan, Ben L      505 Exeter Rd   \n",
      "4     Tyisha      Veness           Champagne Room  5396 Forth Street   \n",
      "\n",
      "                             city           county    postal        phone1  \\\n",
      "0               St. Stephens Ward             Kent   CT2 7PP  01835-703597   \n",
      "1                      Abbey Ward  Buckinghamshire  HP11 2AX  01937-864715   \n",
      "2  East Southbourne and Tuckton W      Bournemouth   BH6 3BE  01347-368222   \n",
      "3              Hawerby cum Beesby     Lincolnshire  DN36 5RP  01912-771311   \n",
      "4      Greets Green and Lyng Ward    West Midlands   B70 9DT  01547-429341   \n",
      "\n",
      "         phone2                       email  \\\n",
      "0  01944-369967     atomkiewicz@hotmail.com   \n",
      "1  01714-737668    evan.zigomalas@gmail.com   \n",
      "2  01935-821636  france.andrade@hotmail.com   \n",
      "3  01302-601380         ulysses@hotmail.com   \n",
      "4  01290-367248   tyisha.veness@hotmail.com   \n",
      "\n",
      "                                    web  \n",
      "0  http://www.alandrosenburgcpapc.co.uk  \n",
      "1     http://www.capgeminiamerica.co.uk  \n",
      "2      http://www.elliottjohnwesq.co.uk  \n",
      "3          http://www.mcmahanbenl.co.uk  \n",
      "4        http://www.champagneroom.co.uk  \n"
     ]
    },
    {
     "data": {
      "image/png": "[encoded data removed]",
      "text/plain": [
       "<Figure size 1440x1280 with 1 Axes>"
      ]
     },
     "metadata": {
      "needs_background": "light"
     },
     "output_type": "display_data"
    }
   ],
   "source": [
    "teams = equipos[\"Equipos\"]\n",
    "\n",
    "puntos = equipos[\"Pts\"]\n",
    "\n",
    "fig, ax = plt.subplots(figsize=(18, 16), dpi= 80)\n",
    "ax.plot(teams, puntos, 'ro')\n",
    "\n",
    "ax.set(xlabel='Equipos', ylabel='Puntos',\n",
    "       title='Total de puntos Clausura 2018')\n",
    "ax.grid()\n",
    "plt.show()\n",
    "\n"
   ]
  },
  {
   "cell_type": "markdown",
   "metadata": {},
   "source": [
    "# II Parte, análisis exploratorio de datos\n",
    "\n",
    "Utilizando los datos demograficos de US podemos realizar un estudio de los datos utilizando pandas"
   ]
  },
  {
   "cell_type": "code",
   "execution_count": null,
   "metadata": {},
   "outputs": [],
   "source": []
  }
 ],
 "metadata": {
  "kernelspec": {
   "display_name": "Python 3",
   "language": "python",
   "name": "python3"
  },
  "language_info": {
   "codemirror_mode": {
    "name": "ipython",
    "version": 3
   },
   "file_extension": ".py",
   "mimetype": "text/x-python",
   "name": "python",
   "nbconvert_exporter": "python",
   "pygments_lexer": "ipython3",
   "version": "3.7.3"
  }
 },
 "nbformat": 4,
 "nbformat_minor": 2
}

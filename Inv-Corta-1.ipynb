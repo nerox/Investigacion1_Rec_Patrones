{
 "cells": [
  {
   "cell_type": "markdown",
   "metadata": {},
   "source": [
    "# 1. Introducción \n",
    "\n",
    "Pandas es una biblioteca open source, la cual provee alto desempeño, estructuras de datos fáciles de usar y utilidades de analisis de datos para el lenguaje de programación python. Puede utilizar el siguiente enlace para mayor referencia https://pandas.pydata.org/\n",
    "\n",
    "## 1.1 Instalación\n",
    "\n",
    "Solamente se requiere utilizar el siguiente comando en terminal \n",
    "\n",
    "conda install pandas\n",
    "\n",
    "## 1.2 Uso\n",
    "\n",
    "Para utilizar la biblioteca se requiere hacer un import en el lenguaje python como se observa a continuación:\n",
    "\n"
   ]
  },
  {
   "cell_type": "code",
   "execution_count": 2,
   "metadata": {},
   "outputs": [],
   "source": [
    "import pandas as pd"
   ]
  },
  {
   "cell_type": "markdown",
   "metadata": {},
   "source": [
    "# 2. Utilizando datos en pandas\n",
    "\n",
    "Padas permite utilizar datos almacenados en archivos como .csv o bases de datos. Para analizar datos en pandas se deben utilizar estructuras de datos compatibles con pandas. \n",
    "\n",
    "## 2.1 Estructuras de datos de pandas\n",
    "\n",
    "Las principales estructuras de datos son: Series y DataFrames\n",
    "\n",
    "### 2.1.1 Series\n",
    "\n",
    "La serie corresponde a una estructura de una sola dimension "
   ]
  },
  {
   "cell_type": "code",
   "execution_count": 5,
   "metadata": {
    "scrolled": false
   },
   "outputs": [
    {
     "name": "stdout",
     "output_type": "stream",
     "text": [
      "0      Alejandro\n",
      "1          Pablo\n",
      "2         Daniel\n",
      "3       Fernando\n",
      "4    Juan Carlos\n",
      "dtype: object\n"
     ]
    }
   ],
   "source": [
    "import pandas as pd\n",
    "import numpy as np\n",
    "\n",
    "data = np.array(['Alejandro','Pablo','Daniel','Fernando','Juan Carlos'])\n",
    " \n",
    "ser = pd.Series(data)\n",
    "print(ser)"
   ]
  },
  {
   "cell_type": "raw",
   "metadata": {},
   "source": [
    "Los elementos dentro de una serie se pueden acceder por medio de indices [posicion] y tambien se puede utilizar slicing de python[posicion:posicion] para obtener un subset de datos"
   ]
  },
  {
   "cell_type": "code",
   "execution_count": 7,
   "metadata": {},
   "outputs": [
    {
     "name": "stdout",
     "output_type": "stream",
     "text": [
      "Alejandro\n",
      "Obtener un subset de datos\n",
      "0    Alejandro\n",
      "1        Pablo\n",
      "2       Daniel\n",
      "dtype: object\n"
     ]
    }
   ],
   "source": [
    "import pandas as pd\n",
    "\n",
    "data = ['Alejandro','Pablo','Daniel','Fernando','Juan Carlos']\n",
    " \n",
    "ser = pd.Series(data)\n",
    "print(ser[0])\n",
    "print(\"Obtener un subset de datos\")\n",
    "print(ser[:3])"
   ]
  },
  {
   "cell_type": "markdown",
   "metadata": {},
   "source": [
    "### 2.1.2 DataFrames\n",
    "\n",
    "El dataframe consiste en una estructura de multiples dimensiones. Es decir representa una tabla de filas y columnas. Cada columnda tiene nombres y las filas indices."
   ]
  },
  {
   "cell_type": "code",
   "execution_count": null,
   "metadata": {},
   "outputs": [],
   "source": [
    "# import pandas as pd\n",
    "import pandas as pd\n",
    " \n",
    "# list of strings\n",
    "lst = ['Geeks', 'For', 'Geeks', 'is', \n",
    "            'portal', 'for', 'Geeks']\n",
    " \n",
    "# Calling DataFrame constructor on list\n",
    "df = pd.DataFrame(lst)\n",
    "print(df)"
   ]
  }
 ],
 "metadata": {
  "kernelspec": {
   "display_name": "Python 3",
   "language": "python",
   "name": "python3"
  },
  "language_info": {
   "codemirror_mode": {
    "name": "ipython",
    "version": 3
   },
   "file_extension": ".py",
   "mimetype": "text/x-python",
   "name": "python",
   "nbconvert_exporter": "python",
   "pygments_lexer": "ipython3",
   "version": "3.7.3"
  }
 },
 "nbformat": 4,
 "nbformat_minor": 2
}

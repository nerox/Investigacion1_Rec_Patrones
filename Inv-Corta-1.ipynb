{
 "cells": [
  {
   "cell_type": "markdown",
   "metadata": {},
   "source": [
    "# I. Tutorial de pandas\n",
    "\n",
    "El siguiente tutorial fue elaborado por Alejandro Vargas Chaves (200932185) por motivo de investigación personal en el curso de reconocimiento de patrones.\n",
    "\n",
    "## 1. Introducción \n",
    "\n",
    "Pandas es una biblioteca open source, la cual provee alto desempeño, estructuras de datos fáciles de usar y utilidades de analisis de datos para el lenguaje de programación python. Puede utilizar el siguiente enlace para mayor referencia https://pandas.pydata.org/\n",
    "\n",
    "### 1.1 Instalación\n",
    "\n",
    "Solamente se requiere utilizar el siguiente comando en terminal \n",
    "\n",
    "conda install pandas\n",
    "\n",
    "### 1.2 Uso\n",
    "\n",
    "Para utilizar la biblioteca se requiere hacer un import en el lenguaje python como se observa a continuación:\n",
    "\n"
   ]
  },
  {
   "cell_type": "code",
   "execution_count": 3,
   "metadata": {},
   "outputs": [],
   "source": [
    "import pandas as pd"
   ]
  },
  {
   "cell_type": "markdown",
   "metadata": {},
   "source": [
    "## 2. Utilizando datos en pandas\n",
    "\n",
    "Padas permite utilizar datos almacenados en archivos como .csv o bases de datos. Para analizar datos en pandas se deben utilizar estructuras de datos compatibles con pandas. \n",
    "\n",
    "### 2.1 Estructuras de datos de pandas\n",
    "\n",
    "Las principales estructuras de datos son: Series y DataFrames\n",
    "\n",
    "#### 2.1.1 Series\n",
    "\n",
    "La serie corresponde a una estructura de una sola dimension "
   ]
  },
  {
   "cell_type": "code",
   "execution_count": 4,
   "metadata": {
    "scrolled": false
   },
   "outputs": [
    {
     "name": "stdout",
     "output_type": "stream",
     "text": [
      "0      Alejandro\n",
      "1          Pablo\n",
      "2         Daniel\n",
      "3       Fernando\n",
      "4    Juan Carlos\n",
      "dtype: object\n"
     ]
    }
   ],
   "source": [
    "data = ['Alejandro','Pablo','Daniel','Fernando','Juan Carlos']\n",
    " \n",
    "ser = pd.Series(data)\n",
    "print(ser)"
   ]
  },
  {
   "cell_type": "markdown",
   "metadata": {},
   "source": [
    "Los elementos dentro de una serie se pueden acceder por medio de indices [posicion] y tambien se puede utilizar slicing de python[posicion:posicion] para obtener un subset de datos"
   ]
  },
  {
   "cell_type": "code",
   "execution_count": 5,
   "metadata": {},
   "outputs": [
    {
     "name": "stdout",
     "output_type": "stream",
     "text": [
      "Alejandro\n",
      "Obtener un subset de datos\n",
      "0    Alejandro\n",
      "1        Pablo\n",
      "2       Daniel\n",
      "dtype: object\n"
     ]
    }
   ],
   "source": [
    "ser = pd.Series(data)\n",
    "print(ser[0])\n",
    "print(\"Obtener un subset de datos\")\n",
    "print(ser[:3])"
   ]
  },
  {
   "cell_type": "markdown",
   "metadata": {},
   "source": [
    "#### 2.1.2 DataFrames\n",
    "\n",
    "El dataframe consiste en una estructura de multiples dimensiones. Es decir representa una tabla de filas y columnas. Cada columnda tiene nombres y las filas indices."
   ]
  },
  {
   "cell_type": "code",
   "execution_count": 6,
   "metadata": {},
   "outputs": [
    {
     "name": "stdout",
     "output_type": "stream",
     "text": [
      "      Equipo  Puntos  Goles a favor  Goles en contra\n",
      "0  Sapprissa      27             33               10\n",
      "1   Alajuela      26             26               12\n",
      "2    Heredia      23             20               14\n",
      "3    Cartago      23             14                8\n"
     ]
    }
   ],
   "source": [
    " \n",
    "lista = {'Equipo':['Sapprissa', 'Alajuela', 'Heredia', 'Cartago'],\n",
    "        'Puntos':[27, 26, 23, 23], 'Goles a favor':[33,26,20,14], 'Goles en contra':[10,12,14,8]}\n",
    " \n",
    "df = pd.DataFrame(lista)\n",
    "print(df)"
   ]
  },
  {
   "cell_type": "markdown",
   "metadata": {},
   "source": [
    "Se pueden manejar los datos de forma que solo se obtenga la información de algunas columnas"
   ]
  },
  {
   "cell_type": "code",
   "execution_count": 7,
   "metadata": {},
   "outputs": [
    {
     "name": "stdout",
     "output_type": "stream",
     "text": [
      "      Equipo  Puntos\n",
      "0  Sapprissa      27\n",
      "1   Alajuela      26\n",
      "2    Heredia      23\n",
      "3    Cartago      23\n"
     ]
    }
   ],
   "source": [
    "df = pd.DataFrame(lista)\n",
    "print(df[['Equipo', 'Puntos']])"
   ]
  },
  {
   "cell_type": "markdown",
   "metadata": {},
   "source": [
    "#### 2.1.2.1 Selección por filas\n",
    "\n",
    "Los dataframes contienen meotodos para el acceso por filas por medio de los métodos de loc, iloc y ix"
   ]
  },
  {
   "cell_type": "code",
   "execution_count": 8,
   "metadata": {},
   "outputs": [],
   "source": [
    "data = pd.read_csv('Demographic_Statistics_By_Zip_Code.csv')\n",
    "traffic = pd.read_csv('Traffic_Violations.csv')\n",
    "uk_500 = pd.read_csv('https://s3-eu-west-1.amazonaws.com/shanebucket/downloads/uk-500.csv')\n",
    "#dataset tomado de https://catalog.data.gov/dataset?res_format=CSV\n"
   ]
  },
  {
   "cell_type": "code",
   "execution_count": 9,
   "metadata": {},
   "outputs": [
    {
     "name": "stdout",
     "output_type": "stream",
     "text": [
      "JURISDICTION NAME                      10001.00\n",
      "COUNT PARTICIPANTS                        44.00\n",
      "COUNT FEMALE                              22.00\n",
      "PERCENT FEMALE                             0.50\n",
      "COUNT MALE                                22.00\n",
      "PERCENT MALE                               0.50\n",
      "COUNT GENDER UNKNOWN                       0.00\n",
      "PERCENT GENDER UNKNOWN                     0.00\n",
      "COUNT GENDER TOTAL                        44.00\n",
      "PERCENT GENDER TOTAL                     100.00\n",
      "COUNT PACIFIC ISLANDER                     0.00\n",
      "PERCENT PACIFIC ISLANDER                   0.00\n",
      "COUNT HISPANIC LATINO                     16.00\n",
      "PERCENT HISPANIC LATINO                    0.36\n",
      "COUNT AMERICAN INDIAN                      0.00\n",
      "PERCENT AMERICAN INDIAN                    0.00\n",
      "COUNT ASIAN NON HISPANIC                   3.00\n",
      "PERCENT ASIAN NON HISPANIC                 0.07\n",
      "COUNT WHITE NON HISPANIC                   1.00\n",
      "PERCENT WHITE NON HISPANIC                 0.02\n",
      "COUNT BLACK NON HISPANIC                  21.00\n",
      "PERCENT BLACK NON HISPANIC                 0.48\n",
      "COUNT OTHER ETHNICITY                      3.00\n",
      "PERCENT OTHER ETHNICITY                    0.07\n",
      "COUNT ETHNICITY UNKNOWN                    0.00\n",
      "PERCENT ETHNICITY UNKNOWN                  0.00\n",
      "COUNT ETHNICITY TOTAL                     44.00\n",
      "PERCENT ETHNICITY TOTAL                  100.00\n",
      "COUNT PERMANENT RESIDENT ALIEN             2.00\n",
      "PERCENT PERMANENT RESIDENT ALIEN           0.05\n",
      "COUNT US CITIZEN                          42.00\n",
      "PERCENT US CITIZEN                         0.95\n",
      "COUNT OTHER CITIZEN STATUS                 0.00\n",
      "PERCENT OTHER CITIZEN STATUS               0.00\n",
      "COUNT CITIZEN STATUS UNKNOWN               0.00\n",
      "PERCENT CITIZEN STATUS UNKNOWN             0.00\n",
      "COUNT CITIZEN STATUS TOTAL                44.00\n",
      "PERCENT CITIZEN STATUS TOTAL             100.00\n",
      "COUNT RECEIVES PUBLIC ASSISTANCE          20.00\n",
      "PERCENT RECEIVES PUBLIC ASSISTANCE         0.45\n",
      "COUNT NRECEIVES PUBLIC ASSISTANCE         24.00\n",
      "PERCENT NRECEIVES PUBLIC ASSISTANCE        0.55\n",
      "COUNT PUBLIC ASSISTANCE UNKNOWN            0.00\n",
      "PERCENT PUBLIC ASSISTANCE UNKNOWN          0.00\n",
      "COUNT PUBLIC ASSISTANCE TOTAL             44.00\n",
      "PERCENT PUBLIC ASSISTANCE TOTAL          100.00\n",
      "Name: 0, dtype: float64\n"
     ]
    }
   ],
   "source": [
    "print(data.iloc[0])# primera fila"
   ]
  },
  {
   "cell_type": "code",
   "execution_count": 10,
   "metadata": {},
   "outputs": [
    {
     "name": "stdout",
     "output_type": "stream",
     "text": [
      "   JURISDICTION NAME  COUNT PARTICIPANTS  COUNT FEMALE  PERCENT FEMALE  \\\n",
      "0              10001                  44            22            0.50   \n",
      "1              10002                  35            19            0.54   \n",
      "2              10003                   1             1            1.00   \n",
      "3              10004                   0             0            0.00   \n",
      "4              10005                   2             2            1.00   \n",
      "\n",
      "   COUNT MALE  PERCENT MALE  COUNT GENDER UNKNOWN  PERCENT GENDER UNKNOWN  \\\n",
      "0          22          0.50                     0                       0   \n",
      "1          16          0.46                     0                       0   \n",
      "2           0          0.00                     0                       0   \n",
      "3           0          0.00                     0                       0   \n",
      "4           0          0.00                     0                       0   \n",
      "\n",
      "   COUNT GENDER TOTAL  PERCENT GENDER TOTAL  ...  COUNT CITIZEN STATUS TOTAL  \\\n",
      "0                  44                   100  ...                          44   \n",
      "1                  35                   100  ...                          35   \n",
      "2                   1                   100  ...                           1   \n",
      "3                   0                     0  ...                           0   \n",
      "4                   2                   100  ...                           2   \n",
      "\n",
      "   PERCENT CITIZEN STATUS TOTAL  COUNT RECEIVES PUBLIC ASSISTANCE  \\\n",
      "0                           100                                20   \n",
      "1                           100                                 2   \n",
      "2                           100                                 0   \n",
      "3                             0                                 0   \n",
      "4                           100                                 0   \n",
      "\n",
      "   PERCENT RECEIVES PUBLIC ASSISTANCE  COUNT NRECEIVES PUBLIC ASSISTANCE  \\\n",
      "0                                0.45                                 24   \n",
      "1                                0.06                                 33   \n",
      "2                                0.00                                  1   \n",
      "3                                0.00                                  0   \n",
      "4                                0.00                                  2   \n",
      "\n",
      "   PERCENT NRECEIVES PUBLIC ASSISTANCE  COUNT PUBLIC ASSISTANCE UNKNOWN  \\\n",
      "0                                 0.55                                0   \n",
      "1                                 0.94                                0   \n",
      "2                                 1.00                                0   \n",
      "3                                 0.00                                0   \n",
      "4                                 1.00                                0   \n",
      "\n",
      "   PERCENT PUBLIC ASSISTANCE UNKNOWN  COUNT PUBLIC ASSISTANCE TOTAL  \\\n",
      "0                                  0                             44   \n",
      "1                                  0                             35   \n",
      "2                                  0                              1   \n",
      "3                                  0                              0   \n",
      "4                                  0                              2   \n",
      "\n",
      "   PERCENT PUBLIC ASSISTANCE TOTAL  \n",
      "0                              100  \n",
      "1                              100  \n",
      "2                              100  \n",
      "3                                0  \n",
      "4                              100  \n",
      "\n",
      "[5 rows x 46 columns]\n"
     ]
    }
   ],
   "source": [
    "print(data.iloc[0:5]) # primeras 5 filas"
   ]
  },
  {
   "cell_type": "code",
   "execution_count": 11,
   "metadata": {},
   "outputs": [
    {
     "name": "stdout",
     "output_type": "stream",
     "text": [
      "   JURISDICTION NAME  COUNT PARTICIPANTS\n",
      "0              10001                  44\n",
      "1              10002                  35\n",
      "2              10003                   1\n",
      "3              10004                   0\n",
      "4              10005                   2\n"
     ]
    }
   ],
   "source": [
    "print(data.iloc[0:5, 0:2]) # primeras 2 filas con un subset de columnas"
   ]
  },
  {
   "cell_type": "markdown",
   "metadata": {},
   "source": [
    "La opcion de loc nos permite obtener datos de filas utilizando igualdades con llaves predefinidas. Por ejemplo para obtener la cantidad de multas registradas en Rockville por exceder el limite de 35MPH se puede seguir el siguiente ejemplo:"
   ]
  },
  {
   "cell_type": "code",
   "execution_count": 12,
   "metadata": {},
   "outputs": [
    {
     "ename": "KeyError",
     "evalue": "\"None of [Index(['1st District, Rockville', 'EXCEEDING THE POSTED SPEED LIMIT OF 35 MPH'], dtype='object')] are in the [index]\"",
     "output_type": "error",
     "traceback": [
      "\u001b[0;31m---------------------------------------------------------------------------\u001b[0m",
      "\u001b[0;31mKeyError\u001b[0m                                  Traceback (most recent call last)",
      "\u001b[0;32m<ipython-input-12-b102d3dd4d22>\u001b[0m in \u001b[0;36m<module>\u001b[0;34m\u001b[0m\n\u001b[1;32m      1\u001b[0m \u001b[0;31m#traffic.set_index(\"SubAgency\", inplace=True) #ubicamos el indice a una columna especifica\u001b[0m\u001b[0;34m\u001b[0m\u001b[0;34m\u001b[0m\u001b[0;34m\u001b[0m\u001b[0m\n\u001b[1;32m      2\u001b[0m \u001b[0mtraffic\u001b[0m\u001b[0;34m.\u001b[0m\u001b[0mhead\u001b[0m\u001b[0;34m(\u001b[0m\u001b[0;34m)\u001b[0m\u001b[0;34m\u001b[0m\u001b[0;34m\u001b[0m\u001b[0m\n\u001b[0;32m----> 3\u001b[0;31m print(len(traffic.loc[[\"1st District, Rockville\",\"EXCEEDING THE POSTED SPEED LIMIT OF 35 MPH\"],[\"Date Of Stop\"\n\u001b[0m\u001b[1;32m      4\u001b[0m ]])) \n",
      "\u001b[0;32m~/miniconda3/envs/py3/lib/python3.7/site-packages/pandas/core/indexing.py\u001b[0m in \u001b[0;36m__getitem__\u001b[0;34m(self, key)\u001b[0m\n\u001b[1;32m   1492\u001b[0m             \u001b[0;32mexcept\u001b[0m \u001b[0;34m(\u001b[0m\u001b[0mKeyError\u001b[0m\u001b[0;34m,\u001b[0m \u001b[0mIndexError\u001b[0m\u001b[0;34m,\u001b[0m \u001b[0mAttributeError\u001b[0m\u001b[0;34m)\u001b[0m\u001b[0;34m:\u001b[0m\u001b[0;34m\u001b[0m\u001b[0;34m\u001b[0m\u001b[0m\n\u001b[1;32m   1493\u001b[0m                 \u001b[0;32mpass\u001b[0m\u001b[0;34m\u001b[0m\u001b[0;34m\u001b[0m\u001b[0m\n\u001b[0;32m-> 1494\u001b[0;31m             \u001b[0;32mreturn\u001b[0m \u001b[0mself\u001b[0m\u001b[0;34m.\u001b[0m\u001b[0m_getitem_tuple\u001b[0m\u001b[0;34m(\u001b[0m\u001b[0mkey\u001b[0m\u001b[0;34m)\u001b[0m\u001b[0;34m\u001b[0m\u001b[0;34m\u001b[0m\u001b[0m\n\u001b[0m\u001b[1;32m   1495\u001b[0m         \u001b[0;32melse\u001b[0m\u001b[0;34m:\u001b[0m\u001b[0;34m\u001b[0m\u001b[0;34m\u001b[0m\u001b[0m\n\u001b[1;32m   1496\u001b[0m             \u001b[0;31m# we by definition only have the 0th axis\u001b[0m\u001b[0;34m\u001b[0m\u001b[0;34m\u001b[0m\u001b[0;34m\u001b[0m\u001b[0m\n",
      "\u001b[0;32m~/miniconda3/envs/py3/lib/python3.7/site-packages/pandas/core/indexing.py\u001b[0m in \u001b[0;36m_getitem_tuple\u001b[0;34m(self, tup)\u001b[0m\n\u001b[1;32m    875\u001b[0m         \u001b[0;31m# ugly hack for GH #836\u001b[0m\u001b[0;34m\u001b[0m\u001b[0;34m\u001b[0m\u001b[0;34m\u001b[0m\u001b[0m\n\u001b[1;32m    876\u001b[0m         \u001b[0;32mif\u001b[0m \u001b[0mself\u001b[0m\u001b[0;34m.\u001b[0m\u001b[0m_multi_take_opportunity\u001b[0m\u001b[0;34m(\u001b[0m\u001b[0mtup\u001b[0m\u001b[0;34m)\u001b[0m\u001b[0;34m:\u001b[0m\u001b[0;34m\u001b[0m\u001b[0;34m\u001b[0m\u001b[0m\n\u001b[0;32m--> 877\u001b[0;31m             \u001b[0;32mreturn\u001b[0m \u001b[0mself\u001b[0m\u001b[0;34m.\u001b[0m\u001b[0m_multi_take\u001b[0m\u001b[0;34m(\u001b[0m\u001b[0mtup\u001b[0m\u001b[0;34m)\u001b[0m\u001b[0;34m\u001b[0m\u001b[0;34m\u001b[0m\u001b[0m\n\u001b[0m\u001b[1;32m    878\u001b[0m \u001b[0;34m\u001b[0m\u001b[0m\n\u001b[1;32m    879\u001b[0m         \u001b[0;31m# no shortcut needed\u001b[0m\u001b[0;34m\u001b[0m\u001b[0;34m\u001b[0m\u001b[0;34m\u001b[0m\u001b[0m\n",
      "\u001b[0;32m~/miniconda3/envs/py3/lib/python3.7/site-packages/pandas/core/indexing.py\u001b[0m in \u001b[0;36m_multi_take\u001b[0;34m(self, tup)\u001b[0m\n\u001b[1;32m    932\u001b[0m         \u001b[0mo\u001b[0m \u001b[0;34m=\u001b[0m \u001b[0mself\u001b[0m\u001b[0;34m.\u001b[0m\u001b[0mobj\u001b[0m\u001b[0;34m\u001b[0m\u001b[0;34m\u001b[0m\u001b[0m\n\u001b[1;32m    933\u001b[0m         d = {axis: self._get_listlike_indexer(key, axis)\n\u001b[0;32m--> 934\u001b[0;31m              for (key, axis) in zip(tup, o._AXIS_ORDERS)}\n\u001b[0m\u001b[1;32m    935\u001b[0m         \u001b[0;32mreturn\u001b[0m \u001b[0mo\u001b[0m\u001b[0;34m.\u001b[0m\u001b[0m_reindex_with_indexers\u001b[0m\u001b[0;34m(\u001b[0m\u001b[0md\u001b[0m\u001b[0;34m,\u001b[0m \u001b[0mcopy\u001b[0m\u001b[0;34m=\u001b[0m\u001b[0;32mTrue\u001b[0m\u001b[0;34m,\u001b[0m \u001b[0mallow_dups\u001b[0m\u001b[0;34m=\u001b[0m\u001b[0;32mTrue\u001b[0m\u001b[0;34m)\u001b[0m\u001b[0;34m\u001b[0m\u001b[0;34m\u001b[0m\u001b[0m\n\u001b[1;32m    936\u001b[0m \u001b[0;34m\u001b[0m\u001b[0m\n",
      "\u001b[0;32m~/miniconda3/envs/py3/lib/python3.7/site-packages/pandas/core/indexing.py\u001b[0m in \u001b[0;36m<dictcomp>\u001b[0;34m(.0)\u001b[0m\n\u001b[1;32m    932\u001b[0m         \u001b[0mo\u001b[0m \u001b[0;34m=\u001b[0m \u001b[0mself\u001b[0m\u001b[0;34m.\u001b[0m\u001b[0mobj\u001b[0m\u001b[0;34m\u001b[0m\u001b[0;34m\u001b[0m\u001b[0m\n\u001b[1;32m    933\u001b[0m         d = {axis: self._get_listlike_indexer(key, axis)\n\u001b[0;32m--> 934\u001b[0;31m              for (key, axis) in zip(tup, o._AXIS_ORDERS)}\n\u001b[0m\u001b[1;32m    935\u001b[0m         \u001b[0;32mreturn\u001b[0m \u001b[0mo\u001b[0m\u001b[0;34m.\u001b[0m\u001b[0m_reindex_with_indexers\u001b[0m\u001b[0;34m(\u001b[0m\u001b[0md\u001b[0m\u001b[0;34m,\u001b[0m \u001b[0mcopy\u001b[0m\u001b[0;34m=\u001b[0m\u001b[0;32mTrue\u001b[0m\u001b[0;34m,\u001b[0m \u001b[0mallow_dups\u001b[0m\u001b[0;34m=\u001b[0m\u001b[0;32mTrue\u001b[0m\u001b[0;34m)\u001b[0m\u001b[0;34m\u001b[0m\u001b[0;34m\u001b[0m\u001b[0m\n\u001b[1;32m    936\u001b[0m \u001b[0;34m\u001b[0m\u001b[0m\n",
      "\u001b[0;32m~/miniconda3/envs/py3/lib/python3.7/site-packages/pandas/core/indexing.py\u001b[0m in \u001b[0;36m_get_listlike_indexer\u001b[0;34m(self, key, axis, raise_missing)\u001b[0m\n\u001b[1;32m   1159\u001b[0m         self._validate_read_indexer(keyarr, indexer,\n\u001b[1;32m   1160\u001b[0m                                     \u001b[0mo\u001b[0m\u001b[0;34m.\u001b[0m\u001b[0m_get_axis_number\u001b[0m\u001b[0;34m(\u001b[0m\u001b[0maxis\u001b[0m\u001b[0;34m)\u001b[0m\u001b[0;34m,\u001b[0m\u001b[0;34m\u001b[0m\u001b[0;34m\u001b[0m\u001b[0m\n\u001b[0;32m-> 1161\u001b[0;31m                                     raise_missing=raise_missing)\n\u001b[0m\u001b[1;32m   1162\u001b[0m         \u001b[0;32mreturn\u001b[0m \u001b[0mkeyarr\u001b[0m\u001b[0;34m,\u001b[0m \u001b[0mindexer\u001b[0m\u001b[0;34m\u001b[0m\u001b[0;34m\u001b[0m\u001b[0m\n\u001b[1;32m   1163\u001b[0m \u001b[0;34m\u001b[0m\u001b[0m\n",
      "\u001b[0;32m~/miniconda3/envs/py3/lib/python3.7/site-packages/pandas/core/indexing.py\u001b[0m in \u001b[0;36m_validate_read_indexer\u001b[0;34m(self, key, indexer, axis, raise_missing)\u001b[0m\n\u001b[1;32m   1244\u001b[0m                 raise KeyError(\n\u001b[1;32m   1245\u001b[0m                     u\"None of [{key}] are in the [{axis}]\".format(\n\u001b[0;32m-> 1246\u001b[0;31m                         key=key, axis=self.obj._get_axis_name(axis)))\n\u001b[0m\u001b[1;32m   1247\u001b[0m \u001b[0;34m\u001b[0m\u001b[0m\n\u001b[1;32m   1248\u001b[0m             \u001b[0;31m# We (temporarily) allow for some missing keys with .loc, except in\u001b[0m\u001b[0;34m\u001b[0m\u001b[0;34m\u001b[0m\u001b[0;34m\u001b[0m\u001b[0m\n",
      "\u001b[0;31mKeyError\u001b[0m: \"None of [Index(['1st District, Rockville', 'EXCEEDING THE POSTED SPEED LIMIT OF 35 MPH'], dtype='object')] are in the [index]\""
     ]
    }
   ],
   "source": [
    "#traffic.set_index(\"SubAgency\", inplace=True) #ubicamos el indice a una columna especifica\n",
    "traffic.head()\n",
    "print(len(traffic.loc[[\"1st District, Rockville\",\"EXCEEDING THE POSTED SPEED LIMIT OF 35 MPH\"],[\"Date Of Stop\"\n",
    "]])) "
   ]
  },
  {
   "cell_type": "markdown",
   "metadata": {},
   "source": [
    "## 3. Cargando archivos en Pandas\n",
    "\n",
    "Pandas como se observó anteriormente permite cargar datos de diversas fuentes de archivos o bases de datos. Para importar un set de datos de un csv se utiliza el siguiente comando read_csv(). Se debe poner la ruta dentro de los parentesis."
   ]
  },
  {
   "cell_type": "code",
   "execution_count": null,
   "metadata": {},
   "outputs": [],
   "source": [
    "equipos = pd.read_csv('equipos_futbol.csv')\n"
   ]
  },
  {
   "cell_type": "markdown",
   "metadata": {},
   "source": [
    "## 4. Operaciones en Pandas sobre dataFrames\n",
    "\n",
    "Los dataFrames contienen operaciones add(), sub(), mul(), div()"
   ]
  },
  {
   "cell_type": "code",
   "execution_count": null,
   "metadata": {},
   "outputs": [],
   "source": [
    "print(equipos.iloc[5:7])"
   ]
  },
  {
   "cell_type": "code",
   "execution_count": null,
   "metadata": {},
   "outputs": [],
   "source": []
  },
  {
   "cell_type": "code",
   "execution_count": null,
   "metadata": {},
   "outputs": [],
   "source": []
  }
 ],
 "metadata": {
  "kernelspec": {
   "display_name": "Python 3",
   "language": "python",
   "name": "python3"
  },
  "language_info": {
   "codemirror_mode": {
    "name": "ipython",
    "version": 3
   },
   "file_extension": ".py",
   "mimetype": "text/x-python",
   "name": "python",
   "nbconvert_exporter": "python",
   "pygments_lexer": "ipython3",
   "version": "3.7.3"
  }
 },
 "nbformat": 4,
 "nbformat_minor": 2
}
